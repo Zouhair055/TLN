{
 "cells": [
  {
   "cell_type": "markdown",
   "metadata": {},
   "source": [
    "Imports et Configuration"
   ]
  },
  {
   "cell_type": "code",
   "execution_count": 1,
   "metadata": {},
   "outputs": [],
   "source": [
    "import spacy\n",
    "import requests\n",
    "import xml.etree.ElementTree as ET\n",
    "from collections import defaultdict\n",
    "from nltk.tokenize import word_tokenize\n",
    "from nltk.corpus import stopwords\n",
    "from nltk.metrics.distance import edit_distance\n",
    "import numpy as np\n"
   ]
  },
  {
   "cell_type": "markdown",
   "metadata": {},
   "source": [
    "Pré-traitement des Questions"
   ]
  },
  {
   "cell_type": "code",
   "execution_count": 2,
   "metadata": {},
   "outputs": [],
   "source": [
    "# Charger le modèle NLP pour le français (ou anglais selon les questions utilisées)\n",
    "nlp = spacy.load(\"en_core_web_sm\")  # Change en 'fr_core_news_sm' si questions en français\n"
   ]
  },
  {
   "cell_type": "markdown",
   "metadata": {},
   "source": [
    "Recherche d'Entités DBpedia"
   ]
  },
  {
   "cell_type": "code",
   "execution_count": 3,
   "metadata": {},
   "outputs": [],
   "source": [
    "def preprocess_question(question):\n",
    "    print(f\"\\nTraitement de la question: {question}\")\n",
    "    tokens = word_tokenize(question)\n",
    "    tokens = [t.lower() for t in tokens if t.isalnum() and t not in stopwords.words('english')]\n",
    "    doc = nlp(question)\n",
    "    named_entities = [(ent.text, ent.label_) for ent in doc.ents]\n",
    "    print(\"Tokens:\", tokens)\n",
    "    print(\"Entités Nommées:\", named_entities)\n",
    "    return tokens, named_entities\n"
   ]
  },
  {
   "cell_type": "markdown",
   "metadata": {},
   "source": [
    "Chargement du Fichier XML"
   ]
  },
  {
   "cell_type": "code",
   "execution_count": 4,
   "metadata": {},
   "outputs": [],
   "source": [
    "def parse_questions_xml(file_path):\n",
    "    print(\"\\nLecture du fichier questions.xml...\")\n",
    "    tree = ET.parse(file_path)\n",
    "    root = tree.getroot()\n",
    "    questions = []\n",
    "\n",
    "    for question in root.findall('question'):\n",
    "        question_text = question.find(\"string[@lang='en']\")\n",
    "        answers_element = question.find('answers')\n",
    "\n",
    "        if question_text is not None:\n",
    "            question_text = question_text.text\n",
    "        else:\n",
    "            print(\"⚠️ Question sans texte trouvé, passage...\")\n",
    "            continue  # Ignore la question si aucun texte n'est trouvé\n",
    "\n",
    "        if answers_element is not None:\n",
    "            expected_answer = [ans.find('uri').text for ans in answers_element.findall('answer') if ans.find('uri') is not None]\n",
    "        else:\n",
    "            print(f\"⚠️ Pas de réponse trouvée pour la question: {question_text}\")\n",
    "            expected_answer = []\n",
    "\n",
    "        questions.append((question_text, expected_answer))\n",
    "\n",
    "    print(f\"Nombre de questions chargées: {len(questions)}\")\n",
    "    return questions\n"
   ]
  },
  {
   "cell_type": "markdown",
   "metadata": {},
   "source": [
    "Traitement des Questions"
   ]
  },
  {
   "cell_type": "code",
   "execution_count": 5,
   "metadata": {},
   "outputs": [
    {
     "name": "stdout",
     "output_type": "stream",
     "text": [
      "\n",
      "Lecture du fichier questions.xml...\n",
      "Nombre de questions chargées: 25\n"
     ]
    }
   ],
   "source": [
    "questions_file = \"questions.xml\"\n",
    "questions_data = parse_questions_xml(questions_file)\n"
   ]
  },
  {
   "cell_type": "markdown",
   "metadata": {},
   "source": [
    "Création de la Requête SPARQL"
   ]
  },
  {
   "cell_type": "code",
   "execution_count": 6,
   "metadata": {},
   "outputs": [],
   "source": [
    "def process_question(question_text, expected_answer):\n",
    "    print(f\"### Question ###\\n\")\n",
    "    print(f\"Traitement de la question: {question_text}\")\n",
    "    \n",
    "    tokens, named_entities = preprocess_question(question_text)\n",
    "    print(f\"Tokens: {tokens}\")\n",
    "    print(f\"Entités Nommées: {named_entities}\")\n",
    "    \n",
    "    print(f\"Réponse attendue: {expected_answer}\")\n",
    "    \n",
    "    # Essayer de trouver une entité DBpedia\n",
    "    for entity, label in named_entities:\n",
    "        uri = find_dbpedia_entity(entity)\n",
    "        print(f\"Entité DBpedia trouvée pour {entity}: {uri}\")\n"
   ]
  },
  {
   "cell_type": "code",
   "execution_count": 7,
   "metadata": {},
   "outputs": [
    {
     "name": "stdout",
     "output_type": "stream",
     "text": [
      "### Question ###\n",
      "\n",
      "Traitement de la question: Which river does the Brooklyn Bridge cross?\n",
      "\n",
      "Traitement de la question: Which river does the Brooklyn Bridge cross?\n",
      "Tokens: ['which', 'river', 'brooklyn', 'bridge', 'cross']\n",
      "Entités Nommées: [('the Brooklyn Bridge', 'ORG')]\n",
      "Tokens: ['which', 'river', 'brooklyn', 'bridge', 'cross']\n",
      "Entités Nommées: [('the Brooklyn Bridge', 'ORG')]\n",
      "Réponse attendue: ['http://dbpedia.org/resource/East_River']\n"
     ]
    },
    {
     "ename": "NameError",
     "evalue": "name 'find_dbpedia_entity' is not defined",
     "output_type": "error",
     "traceback": [
      "\u001b[1;31m---------------------------------------------------------------------------\u001b[0m",
      "\u001b[1;31mNameError\u001b[0m                                 Traceback (most recent call last)",
      "Cell \u001b[1;32mIn[7], line 2\u001b[0m\n\u001b[0;32m      1\u001b[0m \u001b[38;5;66;03m# Appeler la fonction pour afficher les détails de la première question\u001b[39;00m\n\u001b[1;32m----> 2\u001b[0m \u001b[43mprocess_question\u001b[49m\u001b[43m(\u001b[49m\u001b[38;5;124;43m\"\u001b[39;49m\u001b[38;5;124;43mWhich river does the Brooklyn Bridge cross?\u001b[39;49m\u001b[38;5;124;43m\"\u001b[39;49m\u001b[43m,\u001b[49m\u001b[43m \u001b[49m\u001b[43m[\u001b[49m\u001b[38;5;124;43m'\u001b[39;49m\u001b[38;5;124;43mhttp://dbpedia.org/resource/East_River\u001b[39;49m\u001b[38;5;124;43m'\u001b[39;49m\u001b[43m]\u001b[49m\u001b[43m)\u001b[49m\n\u001b[0;32m      3\u001b[0m \u001b[38;5;66;03m# Appeler la fonction pour afficher les détails de la deuxième question\u001b[39;00m\n\u001b[0;32m      4\u001b[0m process_question(\u001b[38;5;124m\"\u001b[39m\u001b[38;5;124mWho is the author of Wikipedia?\u001b[39m\u001b[38;5;124m\"\u001b[39m, [\u001b[38;5;124m'\u001b[39m\u001b[38;5;124mhttp://dbpedia.org/resource/Jimmy_Wales\u001b[39m\u001b[38;5;124m'\u001b[39m, \u001b[38;5;124m'\u001b[39m\u001b[38;5;124mhttp://dbpedia.org/resource/Larry_Sanger\u001b[39m\u001b[38;5;124m'\u001b[39m])\n",
      "Cell \u001b[1;32mIn[6], line 13\u001b[0m, in \u001b[0;36mprocess_question\u001b[1;34m(question_text, expected_answer)\u001b[0m\n\u001b[0;32m     11\u001b[0m \u001b[38;5;66;03m# Essayer de trouver une entité DBpedia\u001b[39;00m\n\u001b[0;32m     12\u001b[0m \u001b[38;5;28;01mfor\u001b[39;00m entity, label \u001b[38;5;129;01min\u001b[39;00m named_entities:\n\u001b[1;32m---> 13\u001b[0m     uri \u001b[38;5;241m=\u001b[39m \u001b[43mfind_dbpedia_entity\u001b[49m(entity)\n\u001b[0;32m     14\u001b[0m     \u001b[38;5;28mprint\u001b[39m(\u001b[38;5;124mf\u001b[39m\u001b[38;5;124m\"\u001b[39m\u001b[38;5;124mEntité DBpedia trouvée pour \u001b[39m\u001b[38;5;132;01m{\u001b[39;00mentity\u001b[38;5;132;01m}\u001b[39;00m\u001b[38;5;124m: \u001b[39m\u001b[38;5;132;01m{\u001b[39;00muri\u001b[38;5;132;01m}\u001b[39;00m\u001b[38;5;124m\"\u001b[39m)\n",
      "\u001b[1;31mNameError\u001b[0m: name 'find_dbpedia_entity' is not defined"
     ]
    }
   ],
   "source": [
    "# Appeler la fonction pour afficher les détails de la première question\n",
    "process_question(\"Which river does the Brooklyn Bridge cross?\", ['http://dbpedia.org/resource/East_River'])\n",
    "# Appeler la fonction pour afficher les détails de la deuxième question\n",
    "process_question(\"Who is the author of Wikipedia?\", ['http://dbpedia.org/resource/Jimmy_Wales', 'http://dbpedia.org/resource/Larry_Sanger'])\n"
   ]
  },
  {
   "cell_type": "code",
   "execution_count": 74,
   "metadata": {},
   "outputs": [
    {
     "name": "stdout",
     "output_type": "stream",
     "text": [
      "### Question ###\n",
      "\n",
      "Traitement de la question: In which country does the Nile start?\n",
      "\n",
      "Traitement de la question: In which country does the Nile start?\n",
      "Tokens: ['in', 'country', 'nile', 'start']\n",
      "Entités Nommées: [('Nile', 'LOC')]\n",
      "Tokens: ['in', 'country', 'nile', 'start']\n",
      "Entités Nommées: [('Nile', 'LOC')]\n",
      "Réponse attendue: ['http://dbpedia.org/resource/Ethiopia', 'http://dbpedia.org/resource/Lake_Tana']\n",
      "\n",
      "Recherche de l'entité DBpedia pour: Nile\n",
      "Entité DBpedia trouvée: ['http://dbpedia.org/resource/Nile_Rodgers']\n",
      "Entité DBpedia trouvée pour Nile: ['http://dbpedia.org/resource/Nile_Rodgers']\n",
      "### Question ###\n",
      "\n",
      "Traitement de la question: What is the highest place of Karakoram?\n",
      "\n",
      "Traitement de la question: What is the highest place of Karakoram?\n",
      "Tokens: ['what', 'highest', 'place', 'karakoram']\n",
      "Entités Nommées: [('Karakoram', 'GPE')]\n",
      "Tokens: ['what', 'highest', 'place', 'karakoram']\n",
      "Entités Nommées: [('Karakoram', 'GPE')]\n",
      "Réponse attendue: ['http://dbpedia.org/resource/K2']\n",
      "\n",
      "Recherche de l'entité DBpedia pour: Karakoram\n",
      "Entité DBpedia trouvée: ['http://dbpedia.org/resource/Karakoram']\n",
      "Entité DBpedia trouvée pour Karakoram: ['http://dbpedia.org/resource/Karakoram']\n"
     ]
    }
   ],
   "source": [
    "# Appeler la fonction pour afficher les détails de la troisième question\n",
    "process_question(\"In which country does the Nile start?\", ['http://dbpedia.org/resource/Ethiopia', 'http://dbpedia.org/resource/Lake_Tana'])\n",
    "# Appeler la fonction pour afficher les détails de la quatrième question\n",
    "process_question(\"What is the highest place of Karakoram?\", ['http://dbpedia.org/resource/K2'])"
   ]
  },
  {
   "cell_type": "code",
   "execution_count": 75,
   "metadata": {},
   "outputs": [
    {
     "name": "stdout",
     "output_type": "stream",
     "text": [
      "### Question ###\n",
      "\n",
      "Traitement de la question: Who designed the Brooklyn Bridge?\n",
      "\n",
      "Traitement de la question: Who designed the Brooklyn Bridge?\n",
      "Tokens: ['who', 'designed', 'brooklyn', 'bridge']\n",
      "Entités Nommées: [('the Brooklyn Bridge', 'FAC')]\n",
      "Tokens: ['who', 'designed', 'brooklyn', 'bridge']\n",
      "Entités Nommées: [('the Brooklyn Bridge', 'FAC')]\n",
      "Réponse attendue: ['http://dbpedia.org/resource/John_Augustus_Roebling']\n",
      "\n",
      "Recherche de l'entité DBpedia pour: the Brooklyn Bridge\n",
      "Entité DBpedia trouvée: ['http://dbpedia.org/resource/The_Brooklyn_Bridge_(band)']\n",
      "Entité DBpedia trouvée pour the Brooklyn Bridge: ['http://dbpedia.org/resource/The_Brooklyn_Bridge_(band)']\n"
     ]
    }
   ],
   "source": [
    "# Appeler la fonction pour afficher les détails de la cinquième question\n",
    "process_question(\"Who designed the Brooklyn Bridge?\", ['http://dbpedia.org/resource/John_Augustus_Roebling'])"
   ]
  },
  {
   "cell_type": "markdown",
   "metadata": {},
   "source": [
    "Évaluation du Système"
   ]
  },
  {
   "cell_type": "code",
   "execution_count": 76,
   "metadata": {},
   "outputs": [],
   "source": [
    "def create_sparql_query(subject, relation):\n",
    "    print(f\"\\nCréation de la requête SPARQL pour le sujet: {subject} et la relation: {relation}\")\n",
    "    query = f\"\"\"\n",
    "    PREFIX dbo: <http://dbpedia.org/ontology/>\n",
    "    PREFIX res: <http://dbpedia.org/resource/>\n",
    "    SELECT DISTINCT ?uri WHERE {{\n",
    "        res:{subject} dbo:{relation} ?uri .\n",
    "    }}\n",
    "    \"\"\"\n",
    "    print(\"Requête SPARQL générée:\")\n",
    "    print(query)\n",
    "    return query\n"
   ]
  },
  {
   "cell_type": "markdown",
   "metadata": {},
   "source": [
    "Chargement des Données et Exécution"
   ]
  },
  {
   "cell_type": "code",
   "execution_count": 77,
   "metadata": {},
   "outputs": [
    {
     "name": "stdout",
     "output_type": "stream",
     "text": [
      "\n",
      "Création de la requête SPARQL pour le sujet: Brooklyn_Bridge et la relation: crosses\n",
      "Requête SPARQL générée:\n",
      "\n",
      "    PREFIX dbo: <http://dbpedia.org/ontology/>\n",
      "    PREFIX res: <http://dbpedia.org/resource/>\n",
      "    SELECT DISTINCT ?uri WHERE {\n",
      "        res:Brooklyn_Bridge dbo:crosses ?uri .\n",
      "    }\n",
      "    \n"
     ]
    }
   ],
   "source": [
    "sparql_query = create_sparql_query(\"Brooklyn_Bridge\", \"crosses\")\n"
   ]
  },
  {
   "cell_type": "markdown",
   "metadata": {},
   "source": [
    "Analyse des Erreurs"
   ]
  },
  {
   "cell_type": "markdown",
   "metadata": {},
   "source": [
    "### Analyse des Erreurs\n",
    "\n",
    "Sur quel type de question votre système se trompe ?\n",
    "\n",
    "1. **Questions ambiguës** : Si une question contient plusieurs entités ou relations possibles, le système peut avoir du mal à choisir la bonne.\n",
    "2. **Mauvais matching des relations** : Certaines relations peuvent ne pas être correctement identifiées en raison de variations lexicales ou de synonymes.\n",
    "3. **Absence d'entités dans DBpedia** : Si une entité mentionnée dans la question n'existe pas dans DBpedia, le système ne pourra pas trouver de correspondance.\n",
    "\n",
    "### Améliorations Possibles\n",
    "\n",
    "- Utiliser des techniques avancées pour le matching des relations, comme la similarité sémantique avec WordNet.\n",
    "- Ajouter un mécanisme de résolution des ambiguïtés en proposant plusieurs candidats pour chaque entité ou relation.\n",
    "- Tester sur un ensemble plus large de questions pour identifier les cas limites."
   ]
  },
  {
   "cell_type": "code",
   "execution_count": 78,
   "metadata": {},
   "outputs": [],
   "source": [
    "def evaluate_system(predictions, gold_standard):\n",
    "    print(\"\\nÉvaluation du système\")\n",
    "    tp = sum(1 for p in predictions if p in gold_standard)\n",
    "    fp = sum(1 for p in predictions if p not in gold_standard)\n",
    "    fn = sum(1 for g in gold_standard if g not in predictions)\n",
    "    precision = tp / (tp + fp) if tp + fp > 0 else 0\n",
    "    recall = tp / (tp + fn) if tp + fn > 0 else 0\n",
    "    f_measure = (2 * precision * recall) / (precision + recall) if precision + recall > 0 else 0\n",
    "    print(f\"Précision: {precision}, Rappel: {recall}, F-mesure: {f_measure}\")\n",
    "    return precision, recall, f_measure\n"
   ]
  },
  {
   "cell_type": "code",
   "execution_count": 79,
   "metadata": {},
   "outputs": [
    {
     "name": "stdout",
     "output_type": "stream",
     "text": [
      "\n",
      "Évaluation du système\n",
      "Précision: 1.0, Rappel: 1.0, F-mesure: 1.0\n"
     ]
    },
    {
     "data": {
      "text/plain": [
       "(1.0, 1.0, 1.0)"
      ]
     },
     "execution_count": 79,
     "metadata": {},
     "output_type": "execute_result"
    }
   ],
   "source": [
    "predicted_answers = [\"http://dbpedia.org/resource/East_River\"]\n",
    "gold_answers = [\"http://dbpedia.org/resource/East_River\"]\n",
    "evaluate_system(predicted_answers, gold_answers)\n"
   ]
  }
 ],
 "metadata": {
  "kernelspec": {
   "display_name": "Python 3",
   "language": "python",
   "name": "python3"
  },
  "language_info": {
   "codemirror_mode": {
    "name": "ipython",
    "version": 3
   },
   "file_extension": ".py",
   "mimetype": "text/x-python",
   "name": "python",
   "nbconvert_exporter": "python",
   "pygments_lexer": "ipython3",
   "version": "3.9.13"
  }
 },
 "nbformat": 4,
 "nbformat_minor": 2
}
